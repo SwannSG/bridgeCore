{
 "cells": [
  {
   "cell_type": "markdown",
   "metadata": {
    "collapsed": true
   },
   "source": [
    "# Bridge Probabilities #"
   ]
  },
  {
   "cell_type": "markdown",
   "metadata": {
    "collapsed": true
   },
   "source": [
    "## Basic Building Blocks ##\n",
    "\n",
    "How many ways can we select *n* items from a large collection of *N* objects. The first item we select, we choose from *N* obects, then when that object is taken, we can choose from *N - 1* objects, and so on.\n",
    "\n",
    "\\#waysToChoose_n_ItemsFrom_N_Objects = N x N-1 x N-2 .... up to n terms.\n",
    "\n",
    "Now if we consider the set {a,b} to be the same as {b,a}, where a and b are items drawn from N. Note the set can have length *n*, and in this case n=2. If we only want unique sets, how do we remove these \"duplicates\" from *#waysToChoose_n_ItemsFrom_N_Objects*.\n",
    "\n",
    "Well we need to \"cancel these duplicates out\" by dividing by the number of ways *n* objects can be arranged.\n",
    "\n",
    "\\#ways_n_ItemsCanBeArranged = n!\n",
    "\n",
    "\\#uniqueWaysToChoose_n_ItemsFrom_N_Objects = \\#waysToChoose_n_ItemsFrom_N_Objects / \\#ways_n_ItemsCanBeArranged  \n",
    "\n",
    "This is implemented in a trivial Python function, as\n"
   ]
  },
  {
   "cell_type": "code",
   "execution_count": 5,
   "metadata": {
    "collapsed": true
   },
   "outputs": [],
   "source": [
    "import math"
   ]
  },
  {
   "cell_type": "code",
   "execution_count": 6,
   "metadata": {
    "collapsed": true
   },
   "outputs": [],
   "source": [
    "def C(n, N):\n",
    "    \"\"\"\n",
    "        unique ways to choose a set of n items from N objects\n",
    "        \n",
    "    \"\"\"\n",
    "    return math.factorial(N)/(math.factorial(N-n)*math.factorial(n))\n"
   ]
  },
  {
   "cell_type": "code",
   "execution_count": 7,
   "metadata": {
    "collapsed": false
   },
   "outputs": [
    {
     "data": {
      "text/plain": [
       "286.0"
      ]
     },
     "execution_count": 7,
     "metadata": {},
     "output_type": "execute_result"
    }
   ],
   "source": [
    "C(3,13)"
   ]
  },
  {
   "cell_type": "code",
   "execution_count": null,
   "metadata": {
    "collapsed": true
   },
   "outputs": [],
   "source": []
  }
 ],
 "metadata": {
  "anaconda-cloud": {},
  "kernelspec": {
   "display_name": "Python [Root]",
   "language": "python",
   "name": "Python [Root]"
  },
  "language_info": {
   "codemirror_mode": {
    "name": "ipython",
    "version": 3
   },
   "file_extension": ".py",
   "mimetype": "text/x-python",
   "name": "python",
   "nbconvert_exporter": "python",
   "pygments_lexer": "ipython3",
   "version": "3.5.2"
  }
 },
 "nbformat": 4,
 "nbformat_minor": 0
}
